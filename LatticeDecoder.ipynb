{
 "cells": [
  {
   "cell_type": "code",
   "execution_count": 2,
   "metadata": {},
   "outputs": [
    {
     "name": "stdout",
     "output_type": "stream",
     "text": [
      "[[3, -1, 0, 6], [3, -1, 5, 1], [3, -1, 5, 6], [3, -1, 5, 11], [3, -1, 10, 6], [3, -1, 10, 11], [3, 4, 0, 1], [3, 4, 0, 6], [3, 4, 0, 11], [3, 4, 5, 1], [3, 4, 5, 6], [3, 4, 5, 11], [3, 4, 10, 1], [3, 4, 10, 6], [3, 4, 10, 11], [3, 9, 0, 6], [3, 9, 5, 1], [3, 9, 5, 6], [3, 9, 5, 11], [3, 9, 10, 1], [3, 9, 10, 6], [3, 9, 10, 11], [8, -1, 0, 1], [8, -1, 0, 6], [8, -1, 0, 11], [8, -1, 5, 1], [8, -1, 5, 6], [8, -1, 5, 11], [8, -1, 10, 1], [8, -1, 10, 6], [8, -1, 10, 11], [8, 4, 0, 1], [8, 4, 0, 6], [8, 4, 0, 11], [8, 4, 5, 1], [8, 4, 5, 6], [8, 4, 5, 11], [8, 4, 5, 16], [8, 4, 10, 1], [8, 4, 10, 6], [8, 4, 10, 11], [8, 4, 15, 6], [8, 9, 0, 1], [8, 9, 0, 6], [8, 9, 0, 11], [8, 9, 5, 1], [8, 9, 5, 6], [8, 9, 5, 11], [8, 9, 10, 1], [8, 9, 10, 6], [8, 9, 10, 11], [8, 14, 5, 6], [13, -1, 0, 6], [13, -1, 5, 1], [13, -1, 5, 6], [13, -1, 5, 11], [13, -1, 10, 1], [13, -1, 10, 6], [13, -1, 10, 11], [13, 4, 0, 1], [13, 4, 0, 6], [13, 4, 0, 11], [13, 4, 5, 1], [13, 4, 5, 6], [13, 4, 5, 11], [13, 4, 10, 1], [13, 4, 10, 6], [13, 4, 10, 11], [13, 9, 0, 6], [13, 9, 5, 1], [13, 9, 5, 6], [13, 9, 5, 11], [13, 9, 10, 1], [13, 9, 10, 6], [13, 9, 10, 11], [18, 4, 5, 6]]\n"
     ]
    }
   ],
   "source": [
    "import math\n",
    "import itertools\n",
    "\n",
    "# Декодер для (F_p)^n\n",
    "def BaseFieldDecoder(y,e0):\n",
    "    y = vector(y)\n",
    "    distance = int(e0)\n",
    "    delta_list = [i for i in range(-distance, distance+1)] # Диапазон значений для построение списка delta_vector'ов ([-2,-1,0,1,2])\n",
    "\n",
    "    code_words_list = []\n",
    "    for delta in itertools.product(delta_list, repeat=len(y)): # Все перестановки delta_vector'ов\n",
    "        delta_vector = vector(delta)\n",
    "        v = y + delta_vector\n",
    "        if ((y-v).norm()) <= e0:\n",
    "            code_words_list.append(v)\n",
    "\n",
    "    return code_words_list\n",
    "\n",
    "# Декодер кода Рида-Соломона\n",
    "def RSDecoder(n,k,F,codeword_with_errors):\n",
    "    evaluation_points = F.list()[1:n+1]\n",
    "    C = codes.GeneralizedReedSolomonCode(evaluation_points, k)\n",
    "    D = codes.decoders.GRSBerlekampWelchDecoder(C)\n",
    "    y = vector(F, codeword_with_errors)\n",
    "    try:\n",
    "        decoded_codeword = D.decode_to_code(y)\n",
    "        decoded_codeword_int = list(map(int, decoded_codeword))\n",
    "        return [decoded_codeword_int]\n",
    "    except:\n",
    "        return []\n",
    "    \n",
    "# Декодирование решётки конструкции D\n",
    "def LatticeDecoder(y,i,e0,p):\n",
    "    ei = e2 = p^i*e0\n",
    "    w = [round(j) % p for j in y]\n",
    "    if (i == 0):\n",
    "        L = BaseFieldDecoder(w, e0)\n",
    "    else:\n",
    "        L = RSDecoder(n,k,F,w)\n",
    "    R_c = []\n",
    "    for c in L:\n",
    "        if i == 0:\n",
    "            res = [b + (round((a-b) / p) * p) for a,b in zip(y, c)]\n",
    "            R_c.append(res)\n",
    "        else:\n",
    "            y_new = [(a-b) / p for a,b in zip(y, c)]\n",
    "            for v in LatticeDecoder(y_new,i-1,e0,p):   \n",
    "                rez = [a + p*b for a,b in zip(c,v)]\n",
    "                if ((vector(y)-vector(rez)).norm() <= ei):\n",
    "                    R_c.append(rez)\n",
    "    return R_c\n",
    "\n",
    "p = 5\n",
    "F = GF(p)\n",
    "n, k = 4, 2\n",
    "i = 1\n",
    "e0 = 2\n",
    "y = [8.2, 4.4, 5.9, 6.3]\n",
    "\n",
    "vectors = LatticeDecoder(y,i,e0,p)\n",
    "print(vectors)"
   ]
  },
  {
   "cell_type": "code",
   "execution_count": null,
   "metadata": {},
   "outputs": [],
   "source": []
  }
 ],
 "metadata": {
  "kernelspec": {
   "display_name": "SageMath 9.2",
   "language": "sage",
   "name": "sagemath"
  },
  "language_info": {
   "codemirror_mode": {
    "name": "ipython",
    "version": 3
   },
   "file_extension": ".py",
   "mimetype": "text/x-python",
   "name": "python",
   "nbconvert_exporter": "python",
   "pygments_lexer": "ipython3",
   "version": "3.7.7"
  }
 },
 "nbformat": 4,
 "nbformat_minor": 4
}
